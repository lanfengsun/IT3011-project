{
 "cells": [
  {
   "cell_type": "code",
   "execution_count": 1,
   "metadata": {
    "colab": {},
    "colab_type": "code",
    "id": "qh5RayPQq14l"
   },
   "outputs": [],
   "source": [
    "import pandas as pd\n",
    "import matplotlib.pyplot as plt\n",
    "import numpy as np\n",
    "import seaborn as sns\n",
    "sns.set(style=\"white\")\n",
    "sns.set(style=\"whitegrid\", color_codes=True)\n",
    "\n",
    "import warnings\n",
    "warnings.filterwarnings(\"ignore\")"
   ]
  },
  {
   "cell_type": "code",
   "execution_count": 7,
   "metadata": {},
   "outputs": [],
   "source": [
    "from sklearn.metrics import accuracy_score, f1_score, precision_score, recall_score, classification_report, confusion_matrix\n",
    "from sklearn.model_selection import KFold, cross_val_score\n",
    "from sklearn.metrics import roc_curve, auc\n",
    "from sklearn.metrics import matthews_corrcoef\n",
    "from sklearn import metrics\n",
    "from sklearn.model_selection import train_test_split"
   ]
  },
  {
   "cell_type": "code",
   "execution_count": 2,
   "metadata": {},
   "outputs": [],
   "source": [
    "df = pd.read_csv('processed_0323.csv')"
   ]
  },
  {
   "cell_type": "code",
   "execution_count": 3,
   "metadata": {},
   "outputs": [],
   "source": [
    "del df['Unnamed: 0']"
   ]
  },
  {
   "cell_type": "code",
   "execution_count": 4,
   "metadata": {},
   "outputs": [
    {
     "data": {
      "text/plain": [
       "8666"
      ]
     },
     "execution_count": 4,
     "metadata": {},
     "output_type": "execute_result"
    }
   ],
   "source": [
    "len(df)"
   ]
  },
  {
   "cell_type": "code",
   "execution_count": 5,
   "metadata": {},
   "outputs": [
    {
     "data": {
      "text/plain": [
       "(8666, 414)"
      ]
     },
     "execution_count": 5,
     "metadata": {},
     "output_type": "execute_result"
    }
   ],
   "source": [
    "df.shape"
   ]
  },
  {
   "cell_type": "code",
   "execution_count": 6,
   "metadata": {},
   "outputs": [],
   "source": [
    "## replace wrongly mapped ages to average age\n",
    "cols = ['HOME_F_PLAYER_AGE1', 'HOME_C_PLAYER_AGE0', 'HOME_G_PLAYER_AGE0', 'HOME_G_PLAYER_AGE1',\n",
    "        'HOME_F_PLAYER_AGE0', 'AWAY_F_PLAYER_AGE1', 'AWAY_C_PLAYER_AGE0', 'AWAY_G_PLAYER_AGE0',\n",
    "        'AWAY_G_PLAYER_AGE1', 'AWAY_F_PLAYER_AGE0']\n",
    "for i in cols:\n",
    "    df.loc[df[i]>40, i] = 28"
   ]
  },
  {
   "cell_type": "code",
   "execution_count": 8,
   "metadata": {},
   "outputs": [],
   "source": [
    "numeric_cols = list(df.select_dtypes(include=['float64', 'int']).columns)"
   ]
  },
  {
   "cell_type": "code",
   "execution_count": 9,
   "metadata": {},
   "outputs": [],
   "source": [
    "## remove columns that cannot be used for prediction \n",
    "cols=[]\n",
    "for i in numeric_cols:\n",
    "    if ('TEAM_WINS' not in i)&('SECONDS' not in i)&('ID' not in i)&('MINS' not in i)&('WINNING' not in i)&('GAME_YEAR' not in i)&('born' not in i)&('PTS' not in i):\n",
    "        cols.append(i)"
   ]
  },
  {
   "cell_type": "code",
   "execution_count": 10,
   "metadata": {},
   "outputs": [
    {
     "data": {
      "text/plain": [
       "240"
      ]
     },
     "execution_count": 10,
     "metadata": {},
     "output_type": "execute_result"
    }
   ],
   "source": [
    "len(cols)"
   ]
  },
  {
   "cell_type": "code",
   "execution_count": 11,
   "metadata": {},
   "outputs": [],
   "source": [
    "# Split the dataset\n",
    "output_variable = 'HOME_TEAM_WINS'\n",
    "X = df[cols] # Here no need to set inplace=True\n",
    "y = df['HOME_TEAM_WINS']\n",
    "\n",
    "X_train_noscale, X_valid_noscale, y_train, y_valid = train_test_split(X, y, test_size=0.3, random_state=1234)"
   ]
  },
  {
   "cell_type": "code",
   "execution_count": 12,
   "metadata": {},
   "outputs": [
    {
     "data": {
      "text/plain": [
       "StandardScaler(copy=True, with_mean=True, with_std=True)"
      ]
     },
     "execution_count": 12,
     "metadata": {},
     "output_type": "execute_result"
    }
   ],
   "source": [
    "from sklearn.preprocessing import StandardScaler\n",
    "# Normalize features\n",
    "scaler = StandardScaler()\n",
    "scaler.fit(X_train_noscale.fillna(0))"
   ]
  },
  {
   "cell_type": "markdown",
   "metadata": {},
   "source": [
    "#### 1. LASSO to shrink insignificant coefficients"
   ]
  },
  {
   "cell_type": "code",
   "execution_count": 13,
   "metadata": {},
   "outputs": [],
   "source": [
    "from sklearn.feature_selection import SelectFromModel\n",
    "from sklearn.linear_model import LogisticRegression"
   ]
  },
  {
   "cell_type": "code",
   "execution_count": 14,
   "metadata": {},
   "outputs": [
    {
     "data": {
      "text/plain": [
       "SelectFromModel(estimator=LogisticRegression(C=1, class_weight=None, dual=False,\n",
       "                                             fit_intercept=True,\n",
       "                                             intercept_scaling=1, l1_ratio=None,\n",
       "                                             max_iter=100, multi_class='auto',\n",
       "                                             n_jobs=None, penalty='l1',\n",
       "                                             random_state=None,\n",
       "                                             solver='liblinear', tol=0.0001,\n",
       "                                             verbose=0, warm_start=False),\n",
       "                max_features=None, norm_order=1, prefit=False, threshold=None)"
      ]
     },
     "execution_count": 14,
     "metadata": {},
     "output_type": "execute_result"
    }
   ],
   "source": [
    "sel_ = SelectFromModel(LogisticRegression(C=1, penalty='l1', solver='liblinear'))\n",
    "sel_.fit(scaler.transform(X_train_noscale.fillna(0)), y_train)"
   ]
  },
  {
   "cell_type": "code",
   "execution_count": 15,
   "metadata": {
    "scrolled": true
   },
   "outputs": [
    {
     "data": {
      "text/plain": [
       "array([ True,  True,  True,  True,  True,  True,  True,  True,  True,\n",
       "        True,  True,  True,  True,  True,  True,  True,  True,  True,\n",
       "        True, False,  True,  True,  True,  True,  True,  True,  True,\n",
       "        True, False,  True,  True,  True,  True,  True,  True,  True,\n",
       "        True,  True,  True,  True,  True,  True,  True,  True,  True,\n",
       "        True, False,  True,  True,  True,  True, False,  True,  True,\n",
       "        True, False,  True,  True,  True, False,  True,  True,  True,\n",
       "        True,  True, False,  True,  True,  True,  True,  True,  True,\n",
       "        True,  True, False,  True,  True,  True,  True,  True,  True,\n",
       "        True,  True,  True,  True,  True,  True,  True,  True,  True,\n",
       "        True,  True,  True,  True,  True,  True,  True, False,  True,\n",
       "        True,  True, False,  True,  True,  True, False,  True,  True,\n",
       "        True, False,  True,  True,  True,  True,  True,  True,  True,\n",
       "        True,  True,  True, False,  True,  True,  True,  True,  True,\n",
       "        True,  True,  True,  True,  True,  True,  True,  True,  True,\n",
       "       False,  True,  True, False,  True,  True, False,  True,  True,\n",
       "        True,  True,  True,  True,  True,  True, False,  True,  True,\n",
       "        True,  True, False,  True,  True,  True, False,  True,  True,\n",
       "        True,  True,  True,  True,  True,  True,  True,  True, False,\n",
       "       False,  True,  True,  True,  True,  True,  True,  True,  True,\n",
       "        True,  True,  True,  True,  True,  True,  True,  True,  True,\n",
       "       False,  True,  True,  True,  True,  True,  True,  True,  True,\n",
       "        True,  True, False,  True,  True, False,  True,  True,  True,\n",
       "       False,  True,  True,  True,  True,  True,  True,  True,  True,\n",
       "        True,  True,  True, False,  True,  True,  True,  True,  True,\n",
       "        True,  True,  True,  True, False,  True,  True,  True,  True,\n",
       "        True,  True,  True,  True,  True,  True])"
      ]
     },
     "execution_count": 15,
     "metadata": {},
     "output_type": "execute_result"
    }
   ],
   "source": [
    "sel_.get_support()"
   ]
  },
  {
   "cell_type": "code",
   "execution_count": 16,
   "metadata": {
    "scrolled": true
   },
   "outputs": [
    {
     "data": {
      "text/plain": [
       "240"
      ]
     },
     "execution_count": 16,
     "metadata": {},
     "output_type": "execute_result"
    }
   ],
   "source": [
    "len(sel_.get_support())"
   ]
  },
  {
   "cell_type": "code",
   "execution_count": 17,
   "metadata": {},
   "outputs": [
    {
     "name": "stdout",
     "output_type": "stream",
     "text": [
      "total features: 240\n",
      "selected features: 213\n",
      "features with coefficients shrank to zero: 27\n"
     ]
    }
   ],
   "source": [
    "selected_feat = X_train_noscale.columns[(sel_.get_support())]\n",
    "print('total features: {}'.format((X_train_noscale.shape[1])))\n",
    "print('selected features: {}'.format(len(selected_feat)))\n",
    "print('features with coefficients shrank to zero: {}'.format(np.sum(sel_.estimator_.coef_ == 0)))"
   ]
  },
  {
   "cell_type": "code",
   "execution_count": 18,
   "metadata": {},
   "outputs": [
    {
     "data": {
      "text/plain": [
       "Index(['HOME_F_FTA0', 'HOME_F_REB0', 'HOME_F_OREB1', 'HOME_F_REB1',\n",
       "       'HOME_F_weight1', 'HOME_C_FG3A0', 'HOME_C_FTA0', 'HOME_C_REB0',\n",
       "       'HOME_G_REB0', 'HOME_G_weight0', 'HOME_G_FG3A1', 'HOME_G_FGM1',\n",
       "       'HOME_G_REB1', 'AWAY_F_FTM0', 'AWAY_F_OREB0', 'AWAY_F_PLAYER_AGE0',\n",
       "       'AWAY_F_DREB1', 'AWAY_F_FGM1', 'AWAY_F_FT_PCT1', 'AWAY_F_weight1',\n",
       "       'AWAY_C_AST0', 'AWAY_C_REB0', 'AWAY_G_FGA0', 'AWAY_G_FTA0',\n",
       "       'AWAY_G_OREB0', 'AWAY_G_DREB1', 'AWAY_G_MIN1'],\n",
       "      dtype='object')"
      ]
     },
     "execution_count": 18,
     "metadata": {},
     "output_type": "execute_result"
    }
   ],
   "source": [
    "## 0 coef \n",
    "shrink_feats = X_train_noscale.columns[(sel_.estimator_.coef_ == 0).ravel().tolist()]\n",
    "shrink_feats"
   ]
  },
  {
   "cell_type": "code",
   "execution_count": 19,
   "metadata": {},
   "outputs": [
    {
     "data": {
      "text/plain": [
       "Index(['FG_PCT_home', 'FT_PCT_home', 'FG3_PCT_home', 'AST_home', 'REB_home',\n",
       "       'FG_PCT_away', 'FT_PCT_away', 'FG3_PCT_away', 'AST_away', 'REB_away',\n",
       "       ...\n",
       "       'AWAY_G_OREB1', 'AWAY_G_PERC_WIN1', 'AWAY_G_PF1', 'AWAY_G_PLAYER_AGE1',\n",
       "       'AWAY_G_PLUS_MINUS1', 'AWAY_G_REB1', 'AWAY_G_STL1', 'AWAY_G_TO1',\n",
       "       'AWAY_G_height1', 'AWAY_G_weight1'],\n",
       "      dtype='object', length=213)"
      ]
     },
     "execution_count": 19,
     "metadata": {},
     "output_type": "execute_result"
    }
   ],
   "source": [
    "selected_feats = X_train_noscale.columns[(sel_.estimator_.coef_ != 0).ravel().tolist()]\n",
    "selected_feats"
   ]
  },
  {
   "cell_type": "code",
   "execution_count": 20,
   "metadata": {},
   "outputs": [],
   "source": [
    "selected_coefs = []\n",
    "for i in list(sel_.estimator_.coef_[0]):\n",
    "    if i !=0:\n",
    "        selected_coefs.append(i)"
   ]
  },
  {
   "cell_type": "code",
   "execution_count": 21,
   "metadata": {},
   "outputs": [],
   "source": [
    "lasso_feats = pd.DataFrame()"
   ]
  },
  {
   "cell_type": "code",
   "execution_count": 22,
   "metadata": {},
   "outputs": [],
   "source": [
    "lasso_feats['feature'] = selected_feats"
   ]
  },
  {
   "cell_type": "code",
   "execution_count": 23,
   "metadata": {},
   "outputs": [],
   "source": [
    "lasso_feats['coef'] = selected_coefs\n",
    "lasso_feats['abs_coef'] = abs(lasso_feats['coef'])"
   ]
  },
  {
   "cell_type": "code",
   "execution_count": 24,
   "metadata": {},
   "outputs": [
    {
     "data": {
      "text/html": [
       "<div>\n",
       "<style scoped>\n",
       "    .dataframe tbody tr th:only-of-type {\n",
       "        vertical-align: middle;\n",
       "    }\n",
       "\n",
       "    .dataframe tbody tr th {\n",
       "        vertical-align: top;\n",
       "    }\n",
       "\n",
       "    .dataframe thead th {\n",
       "        text-align: right;\n",
       "    }\n",
       "</style>\n",
       "<table border=\"1\" class=\"dataframe\">\n",
       "  <thead>\n",
       "    <tr style=\"text-align: right;\">\n",
       "      <th></th>\n",
       "      <th>feature</th>\n",
       "      <th>coef</th>\n",
       "      <th>abs_coef</th>\n",
       "    </tr>\n",
       "  </thead>\n",
       "  <tbody>\n",
       "    <tr>\n",
       "      <td>5</td>\n",
       "      <td>FG_PCT_away</td>\n",
       "      <td>-1.659477</td>\n",
       "      <td>1.659477</td>\n",
       "    </tr>\n",
       "    <tr>\n",
       "      <td>0</td>\n",
       "      <td>FG_PCT_home</td>\n",
       "      <td>1.540879</td>\n",
       "      <td>1.540879</td>\n",
       "    </tr>\n",
       "    <tr>\n",
       "      <td>9</td>\n",
       "      <td>REB_away</td>\n",
       "      <td>-0.747484</td>\n",
       "      <td>0.747484</td>\n",
       "    </tr>\n",
       "    <tr>\n",
       "      <td>2</td>\n",
       "      <td>FG3_PCT_home</td>\n",
       "      <td>0.712547</td>\n",
       "      <td>0.712547</td>\n",
       "    </tr>\n",
       "    <tr>\n",
       "      <td>197</td>\n",
       "      <td>AWAY_G_FGA1</td>\n",
       "      <td>-0.665851</td>\n",
       "      <td>0.665851</td>\n",
       "    </tr>\n",
       "    <tr>\n",
       "      <td>...</td>\n",
       "      <td>...</td>\n",
       "      <td>...</td>\n",
       "      <td>...</td>\n",
       "    </tr>\n",
       "    <tr>\n",
       "      <td>19</td>\n",
       "      <td>HOME_F_FTM0</td>\n",
       "      <td>0.002417</td>\n",
       "      <td>0.002417</td>\n",
       "    </tr>\n",
       "    <tr>\n",
       "      <td>182</td>\n",
       "      <td>AWAY_G_MIN0</td>\n",
       "      <td>0.001975</td>\n",
       "      <td>0.001975</td>\n",
       "    </tr>\n",
       "    <tr>\n",
       "      <td>93</td>\n",
       "      <td>HOME_G_BLK1</td>\n",
       "      <td>-0.001890</td>\n",
       "      <td>0.001890</td>\n",
       "    </tr>\n",
       "    <tr>\n",
       "      <td>43</td>\n",
       "      <td>HOME_F_MIN1</td>\n",
       "      <td>0.001561</td>\n",
       "      <td>0.001561</td>\n",
       "    </tr>\n",
       "    <tr>\n",
       "      <td>59</td>\n",
       "      <td>HOME_C_FTM0</td>\n",
       "      <td>-0.001313</td>\n",
       "      <td>0.001313</td>\n",
       "    </tr>\n",
       "  </tbody>\n",
       "</table>\n",
       "<p>213 rows × 3 columns</p>\n",
       "</div>"
      ],
      "text/plain": [
       "          feature      coef  abs_coef\n",
       "5     FG_PCT_away -1.659477  1.659477\n",
       "0     FG_PCT_home  1.540879  1.540879\n",
       "9        REB_away -0.747484  0.747484\n",
       "2    FG3_PCT_home  0.712547  0.712547\n",
       "197   AWAY_G_FGA1 -0.665851  0.665851\n",
       "..            ...       ...       ...\n",
       "19    HOME_F_FTM0  0.002417  0.002417\n",
       "182   AWAY_G_MIN0  0.001975  0.001975\n",
       "93    HOME_G_BLK1 -0.001890  0.001890\n",
       "43    HOME_F_MIN1  0.001561  0.001561\n",
       "59    HOME_C_FTM0 -0.001313  0.001313\n",
       "\n",
       "[213 rows x 3 columns]"
      ]
     },
     "execution_count": 24,
     "metadata": {},
     "output_type": "execute_result"
    }
   ],
   "source": [
    "x = lasso_feats.sort_values(by='abs_coef', ascending=False)\n",
    "x"
   ]
  },
  {
   "cell_type": "code",
   "execution_count": 25,
   "metadata": {},
   "outputs": [
    {
     "data": {
      "text/html": [
       "<div>\n",
       "<style scoped>\n",
       "    .dataframe tbody tr th:only-of-type {\n",
       "        vertical-align: middle;\n",
       "    }\n",
       "\n",
       "    .dataframe tbody tr th {\n",
       "        vertical-align: top;\n",
       "    }\n",
       "\n",
       "    .dataframe thead th {\n",
       "        text-align: right;\n",
       "    }\n",
       "</style>\n",
       "<table border=\"1\" class=\"dataframe\">\n",
       "  <thead>\n",
       "    <tr style=\"text-align: right;\">\n",
       "      <th></th>\n",
       "      <th>index</th>\n",
       "      <th>feature</th>\n",
       "      <th>coef</th>\n",
       "      <th>abs_coef</th>\n",
       "    </tr>\n",
       "  </thead>\n",
       "  <tbody>\n",
       "    <tr>\n",
       "      <td>0</td>\n",
       "      <td>5</td>\n",
       "      <td>FG_PCT_away</td>\n",
       "      <td>-1.659477</td>\n",
       "      <td>1.659477</td>\n",
       "    </tr>\n",
       "    <tr>\n",
       "      <td>1</td>\n",
       "      <td>0</td>\n",
       "      <td>FG_PCT_home</td>\n",
       "      <td>1.540879</td>\n",
       "      <td>1.540879</td>\n",
       "    </tr>\n",
       "    <tr>\n",
       "      <td>2</td>\n",
       "      <td>9</td>\n",
       "      <td>REB_away</td>\n",
       "      <td>-0.747484</td>\n",
       "      <td>0.747484</td>\n",
       "    </tr>\n",
       "    <tr>\n",
       "      <td>3</td>\n",
       "      <td>2</td>\n",
       "      <td>FG3_PCT_home</td>\n",
       "      <td>0.712547</td>\n",
       "      <td>0.712547</td>\n",
       "    </tr>\n",
       "    <tr>\n",
       "      <td>4</td>\n",
       "      <td>197</td>\n",
       "      <td>AWAY_G_FGA1</td>\n",
       "      <td>-0.665851</td>\n",
       "      <td>0.665851</td>\n",
       "    </tr>\n",
       "    <tr>\n",
       "      <td>...</td>\n",
       "      <td>...</td>\n",
       "      <td>...</td>\n",
       "      <td>...</td>\n",
       "      <td>...</td>\n",
       "    </tr>\n",
       "    <tr>\n",
       "      <td>208</td>\n",
       "      <td>19</td>\n",
       "      <td>HOME_F_FTM0</td>\n",
       "      <td>0.002417</td>\n",
       "      <td>0.002417</td>\n",
       "    </tr>\n",
       "    <tr>\n",
       "      <td>209</td>\n",
       "      <td>182</td>\n",
       "      <td>AWAY_G_MIN0</td>\n",
       "      <td>0.001975</td>\n",
       "      <td>0.001975</td>\n",
       "    </tr>\n",
       "    <tr>\n",
       "      <td>210</td>\n",
       "      <td>93</td>\n",
       "      <td>HOME_G_BLK1</td>\n",
       "      <td>-0.001890</td>\n",
       "      <td>0.001890</td>\n",
       "    </tr>\n",
       "    <tr>\n",
       "      <td>211</td>\n",
       "      <td>43</td>\n",
       "      <td>HOME_F_MIN1</td>\n",
       "      <td>0.001561</td>\n",
       "      <td>0.001561</td>\n",
       "    </tr>\n",
       "    <tr>\n",
       "      <td>212</td>\n",
       "      <td>59</td>\n",
       "      <td>HOME_C_FTM0</td>\n",
       "      <td>-0.001313</td>\n",
       "      <td>0.001313</td>\n",
       "    </tr>\n",
       "  </tbody>\n",
       "</table>\n",
       "<p>213 rows × 4 columns</p>\n",
       "</div>"
      ],
      "text/plain": [
       "     index       feature      coef  abs_coef\n",
       "0        5   FG_PCT_away -1.659477  1.659477\n",
       "1        0   FG_PCT_home  1.540879  1.540879\n",
       "2        9      REB_away -0.747484  0.747484\n",
       "3        2  FG3_PCT_home  0.712547  0.712547\n",
       "4      197   AWAY_G_FGA1 -0.665851  0.665851\n",
       "..     ...           ...       ...       ...\n",
       "208     19   HOME_F_FTM0  0.002417  0.002417\n",
       "209    182   AWAY_G_MIN0  0.001975  0.001975\n",
       "210     93   HOME_G_BLK1 -0.001890  0.001890\n",
       "211     43   HOME_F_MIN1  0.001561  0.001561\n",
       "212     59   HOME_C_FTM0 -0.001313  0.001313\n",
       "\n",
       "[213 rows x 4 columns]"
      ]
     },
     "execution_count": 25,
     "metadata": {},
     "output_type": "execute_result"
    }
   ],
   "source": [
    "x.reset_index()"
   ]
  },
  {
   "cell_type": "code",
   "execution_count": 28,
   "metadata": {},
   "outputs": [],
   "source": [
    "## take features of individual players instead of team feature\n",
    "features = list(x[(x.feature.str.contains('HOME_'))|(x.feature.str.contains('AWAY_'))].feature)"
   ]
  },
  {
   "cell_type": "code",
   "execution_count": 36,
   "metadata": {},
   "outputs": [
    {
     "data": {
      "text/plain": [
       "203"
      ]
     },
     "execution_count": 36,
     "metadata": {},
     "output_type": "execute_result"
    }
   ],
   "source": [
    "len(features)"
   ]
  },
  {
   "cell_type": "code",
   "execution_count": 37,
   "metadata": {},
   "outputs": [],
   "source": [
    "X_train_noscale = X_train_noscale[features]\n",
    "X_valid_noscale = X_valid_noscale[features]"
   ]
  },
  {
   "cell_type": "code",
   "execution_count": 38,
   "metadata": {},
   "outputs": [
    {
     "data": {
      "text/plain": [
       "StandardScaler(copy=True, with_mean=True, with_std=True)"
      ]
     },
     "execution_count": 38,
     "metadata": {},
     "output_type": "execute_result"
    }
   ],
   "source": [
    "scaler = StandardScaler()\n",
    "scaler.fit(X_train_noscale.fillna(0))"
   ]
  },
  {
   "cell_type": "markdown",
   "metadata": {},
   "source": [
    "## Recursive Feature Elimination"
   ]
  },
  {
   "cell_type": "code",
   "execution_count": 39,
   "metadata": {},
   "outputs": [],
   "source": [
    "from sklearn.feature_selection import RFE\n",
    "\n",
    "# input:\n",
    "# model - the model used for this run\n",
    "# n - number of features should be selected\n",
    "# output:\n",
    "# the F1 score for this particular model with n features\n",
    "def rfe_selection(model, n, X_train, X_test, Y_train, Y_test):\n",
    "    # fitting the model to RFE \n",
    "    rfe = RFE(model, n)\n",
    "    fit= rfe.fit(X_train, Y_train)\n",
    "    \n",
    "    # transform the x inputs based on feature selection\n",
    "    X_train_transformed = rfe.fit_transform(X_train, Y_train)\n",
    "    X_test_transformed = rfe.fit_transform(X_test, Y_test)\n",
    "    \n",
    "    model.fit(X_train_transformed, Y_train)\n",
    "    Y_pred = model.predict(X_test_transformed)\n",
    "    result = f1_score(Y_test, Y_pred, average = 'micro')\n",
    "    ranks = fit.ranking_\n",
    "    \n",
    "    return [ranks, result]"
   ]
  },
  {
   "cell_type": "code",
   "execution_count": 40,
   "metadata": {},
   "outputs": [],
   "source": [
    "# input:\n",
    "# model - the model used for this run\n",
    "# X_train, X_test: the transformed X_training and testing dataset from the result of recursive feature elimination\n",
    "# Output: the F1 score for the current run\n",
    "def selection_df(model, m, X_train, X_test, Y_train, Y_test):\n",
    "    columns = list(range(2))\n",
    "    index = list(range(m+1)[1:])\n",
    "    df = pd.DataFrame(columns = columns, index = index)\n",
    "    df = df.fillna(0)\n",
    "    \n",
    "    for i in range(1, m+1):\n",
    "        rank, result = rfe_selection(model, i, X_train, X_test, Y_train, Y_test)\n",
    "    \n",
    "        df.iloc[i-1,0] = i\n",
    "        df.iloc[i-1,1] = result\n",
    "        \n",
    "        print(str(i) + 'done')\n",
    "    \n",
    "    return df"
   ]
  },
  {
   "cell_type": "code",
   "execution_count": 43,
   "metadata": {},
   "outputs": [],
   "source": [
    "import sklearn.linear_model\n",
    "\n",
    "X_train_scaled = scaler.transform(X_train_noscale.fillna(0))\n",
    "X_valid_scaled = scaler.transform(X_valid_noscale.fillna(0))\n",
    "\n",
    "logreg= sklearn.linear_model.LogisticRegression()"
   ]
  },
  {
   "cell_type": "code",
   "execution_count": 45,
   "metadata": {},
   "outputs": [],
   "source": [
    "df_logreg = selection_df(logreg, 30, X_train_scaled, X_valid_scaled, y_train, y_valid)"
   ]
  },
  {
   "cell_type": "code",
   "execution_count": 46,
   "metadata": {},
   "outputs": [],
   "source": [
    "df_logreg"
   ]
  },
  {
   "cell_type": "code",
   "execution_count": 47,
   "metadata": {},
   "outputs": [],
   "source": [
    "max_row = np.argmax(df_rf.iloc[:,1].values) + 1"
   ]
  },
  {
   "cell_type": "markdown",
   "metadata": {},
   "source": [
    "### final model"
   ]
  },
  {
   "cell_type": "code",
   "execution_count": 211,
   "metadata": {},
   "outputs": [
    {
     "name": "stdout",
     "output_type": "stream",
     "text": [
      "The optimal number of parameters chosen is  17\n"
     ]
    }
   ],
   "source": [
    "\n",
    "#max_row = np.argmax(df_rf.iloc[:,1].values) + 1\n",
    "max_row = 17   ## take directly \n",
    "print ('The optimal number of parameters chosen is ', max_row)\n",
    "\n",
    "# fitting the model to RFE \n",
    "rfe = RFE(logreg, max_row)\n",
    "fit= rfe.fit(X_train_scaled, y_train)\n",
    "    \n",
    "# transform the x inputs based on feature selection\n",
    "X_train_transformed = rfe.fit_transform(X_train_scaled, y_train)\n",
    "X_test_transformed = rfe.fit_transform(X_valid_scaled, y_valid)\n",
    "    \n",
    "rf.fit(X_train_transformed, y_train)\n",
    "Y_pred = rf.predict(X_test_transformed)\n",
    "result = f1_score(y_valid, Y_pred, average = 'micro')"
   ]
  },
  {
   "cell_type": "code",
   "execution_count": 212,
   "metadata": {},
   "outputs": [
    {
     "name": "stdout",
     "output_type": "stream",
     "text": [
      "0.6442307692307693\n"
     ]
    }
   ],
   "source": [
    "print (result)"
   ]
  },
  {
   "cell_type": "code",
   "execution_count": null,
   "metadata": {},
   "outputs": [],
   "source": []
  },
  {
   "cell_type": "code",
   "execution_count": null,
   "metadata": {},
   "outputs": [],
   "source": []
  }
 ],
 "metadata": {
  "kernelspec": {
   "display_name": "Python 3",
   "language": "python",
   "name": "python3"
  },
  "language_info": {
   "codemirror_mode": {
    "name": "ipython",
    "version": 3
   },
   "file_extension": ".py",
   "mimetype": "text/x-python",
   "name": "python",
   "nbconvert_exporter": "python",
   "pygments_lexer": "ipython3",
   "version": "3.7.4"
  }
 },
 "nbformat": 4,
 "nbformat_minor": 2
}
